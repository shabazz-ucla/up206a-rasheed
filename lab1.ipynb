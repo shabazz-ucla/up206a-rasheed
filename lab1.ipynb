{
 "cells": [
  {
   "cell_type": "markdown",
   "id": "c3e0b569-5d0d-43d0-915d-f86d0af2b8a7",
   "metadata": {},
   "source": [
    "## Practice"
   ]
  }
 ],
 "metadata": {
  "kernelspec": {
   "display_name": "Python 3 (ipykernel)",
   "language": "python",
   "name": "python3"
  },
  "language_info": {
   "codemirror_mode": {
    "name": "ipython",
    "version": 3
   },
   "file_extension": ".py",
   "mimetype": "text/x-python",
   "name": "python",
   "nbconvert_exporter": "python",
   "pygments_lexer": "ipython3",
   "version": "3.9.6"
  }
 },
 "nbformat": 4,
 "nbformat_minor": 5
}
